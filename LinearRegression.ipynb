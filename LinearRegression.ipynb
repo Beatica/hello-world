{
  "nbformat": 4,
  "nbformat_minor": 0,
  "metadata": {
    "colab": {
      "name": "Untitled0.ipynb",
      "provenance": [],
      "toc_visible": true,
      "authorship_tag": "ABX9TyP2VkL4fKjlAKlSI6izIskb",
      "include_colab_link": true
    },
    "kernelspec": {
      "name": "python3",
      "display_name": "Python 3"
    }
  },
  "cells": [
    {
      "cell_type": "markdown",
      "metadata": {
        "id": "view-in-github",
        "colab_type": "text"
      },
      "source": [
        "<a href=\"https://colab.research.google.com/github/Beatica/hello-world/blob/main/LinearRegression.ipynb\" target=\"_parent\"><img src=\"https://colab.research.google.com/assets/colab-badge.svg\" alt=\"Open In Colab\"/></a>"
      ]
    },
    {
      "cell_type": "code",
      "metadata": {
        "colab": {
          "base_uri": "https://localhost:8080/",
          "height": 204
        },
        "id": "jh-8oRV1xIZG",
        "outputId": "20a2a777-7363-463b-a280-25297d127e90"
      },
      "source": [
        "import pandas as pd\r\n",
        "import numpy as numpy\r\n",
        "import matplotlib.pyplot as plt\r\n",
        "dataset = pd.read_csv(\"Salary_Data.csv\")\r\n",
        "dataset.head()\r\n"
      ],
      "execution_count": 8,
      "outputs": [
        {
          "output_type": "execute_result",
          "data": {
            "text/html": [
              "<div>\n",
              "<style scoped>\n",
              "    .dataframe tbody tr th:only-of-type {\n",
              "        vertical-align: middle;\n",
              "    }\n",
              "\n",
              "    .dataframe tbody tr th {\n",
              "        vertical-align: top;\n",
              "    }\n",
              "\n",
              "    .dataframe thead th {\n",
              "        text-align: right;\n",
              "    }\n",
              "</style>\n",
              "<table border=\"1\" class=\"dataframe\">\n",
              "  <thead>\n",
              "    <tr style=\"text-align: right;\">\n",
              "      <th></th>\n",
              "      <th>YearsExperience</th>\n",
              "      <th>Salary</th>\n",
              "    </tr>\n",
              "  </thead>\n",
              "  <tbody>\n",
              "    <tr>\n",
              "      <th>0</th>\n",
              "      <td>1.1</td>\n",
              "      <td>39343.0</td>\n",
              "    </tr>\n",
              "    <tr>\n",
              "      <th>1</th>\n",
              "      <td>1.3</td>\n",
              "      <td>46205.0</td>\n",
              "    </tr>\n",
              "    <tr>\n",
              "      <th>2</th>\n",
              "      <td>1.5</td>\n",
              "      <td>37731.0</td>\n",
              "    </tr>\n",
              "    <tr>\n",
              "      <th>3</th>\n",
              "      <td>2.0</td>\n",
              "      <td>43525.0</td>\n",
              "    </tr>\n",
              "    <tr>\n",
              "      <th>4</th>\n",
              "      <td>2.2</td>\n",
              "      <td>39891.0</td>\n",
              "    </tr>\n",
              "  </tbody>\n",
              "</table>\n",
              "</div>"
            ],
            "text/plain": [
              "   YearsExperience   Salary\n",
              "0              1.1  39343.0\n",
              "1              1.3  46205.0\n",
              "2              1.5  37731.0\n",
              "3              2.0  43525.0\n",
              "4              2.2  39891.0"
            ]
          },
          "metadata": {
            "tags": []
          },
          "execution_count": 8
        }
      ]
    },
    {
      "cell_type": "code",
      "metadata": {
        "colab": {
          "base_uri": "https://localhost:8080/"
        },
        "id": "4Wh5VeGOxWQW",
        "outputId": "23cd5f30-f8ec-43ae-bbc6-bb14b48bdf0f"
      },
      "source": [
        "x = dataset.iloc[:, :-1]\r\n",
        "y = dataset.iloc[:, -1]\r\n",
        "print(y)\r\n",
        "from sklearn.model_selection import train_test_split\r\n",
        "x_train, x_test, y_train, y_test = train_test_split(x,y, test_size = 0.33, random_state = 42)\r\n",
        "print(x_train)\r\n",
        "print(y_train)"
      ],
      "execution_count": 26,
      "outputs": [
        {
          "output_type": "stream",
          "text": [
            "0      39343.0\n",
            "1      46205.0\n",
            "2      37731.0\n",
            "3      43525.0\n",
            "4      39891.0\n",
            "5      56642.0\n",
            "6      60150.0\n",
            "7      54445.0\n",
            "8      64445.0\n",
            "9      57189.0\n",
            "10     63218.0\n",
            "11     55794.0\n",
            "12     56957.0\n",
            "13     57081.0\n",
            "14     61111.0\n",
            "15     67938.0\n",
            "16     66029.0\n",
            "17     83088.0\n",
            "18     81363.0\n",
            "19     93940.0\n",
            "20     91738.0\n",
            "21     98273.0\n",
            "22    101302.0\n",
            "23    113812.0\n",
            "24    109431.0\n",
            "25    105582.0\n",
            "26    116969.0\n",
            "27    112635.0\n",
            "28    122391.0\n",
            "29    121872.0\n",
            "Name: Salary, dtype: float64\n",
            "    YearsExperience\n",
            "4               2.2\n",
            "16              5.1\n",
            "5               2.9\n",
            "13              4.1\n",
            "11              4.0\n",
            "22              7.9\n",
            "1               1.3\n",
            "2               1.5\n",
            "25              9.0\n",
            "3               2.0\n",
            "21              7.1\n",
            "26              9.5\n",
            "18              5.9\n",
            "29             10.5\n",
            "20              6.8\n",
            "7               3.2\n",
            "10              3.9\n",
            "14              4.5\n",
            "19              6.0\n",
            "6               3.0\n",
            "4      39891.0\n",
            "16     66029.0\n",
            "5      56642.0\n",
            "13     57081.0\n",
            "11     55794.0\n",
            "22    101302.0\n",
            "1      46205.0\n",
            "2      37731.0\n",
            "25    105582.0\n",
            "3      43525.0\n",
            "21     98273.0\n",
            "26    116969.0\n",
            "18     81363.0\n",
            "29    121872.0\n",
            "20     91738.0\n",
            "7      54445.0\n",
            "10     63218.0\n",
            "14     61111.0\n",
            "19     93940.0\n",
            "6      60150.0\n",
            "Name: Salary, dtype: float64\n"
          ],
          "name": "stdout"
        }
      ]
    },
    {
      "cell_type": "markdown",
      "metadata": {
        "id": "GdR4Ls6jxWyD"
      },
      "source": [
        ""
      ]
    },
    {
      "cell_type": "code",
      "metadata": {
        "colab": {
          "base_uri": "https://localhost:8080/"
        },
        "id": "qtI0SfVo8oRN",
        "outputId": "bdfaf22e-cb14-499e-ff6b-840bc304672f"
      },
      "source": [
        "from sklearn.linear_model import LinearRegression\r\n",
        "regressor = LinearRegression()\r\n",
        "regressor.fit(x_train,y_train)\r\n"
      ],
      "execution_count": 27,
      "outputs": [
        {
          "output_type": "execute_result",
          "data": {
            "text/plain": [
              "LinearRegression(copy_X=True, fit_intercept=True, n_jobs=None, normalize=False)"
            ]
          },
          "metadata": {
            "tags": []
          },
          "execution_count": 27
        }
      ]
    },
    {
      "cell_type": "code",
      "metadata": {
        "colab": {
          "base_uri": "https://localhost:8080/"
        },
        "id": "KsZvgKqHCiHU",
        "outputId": "a1dc65d4-9cb5-4a66-eed9-f5a2f74e9337"
      },
      "source": [
        "y_pred = regressor.predict(x_test)\r\n",
        "print(y_pred)\r\n",
        "print(y_test)\r\n"
      ],
      "execution_count": 30,
      "outputs": [
        {
          "output_type": "stream",
          "text": [
            "[115814.30756236  71511.92534771 102617.85328566  75282.34085534\n",
            "  55487.65944028  60200.67882482 122412.53470072 107330.8726702\n",
            "  63028.49045554  35692.97802523]\n",
            "27    112635.0\n",
            "15     67938.0\n",
            "23    113812.0\n",
            "17     83088.0\n",
            "8      64445.0\n",
            "9      57189.0\n",
            "28    122391.0\n",
            "24    109431.0\n",
            "12     56957.0\n",
            "0      39343.0\n",
            "Name: Salary, dtype: float64\n"
          ],
          "name": "stdout"
        }
      ]
    },
    {
      "cell_type": "code",
      "metadata": {
        "colab": {
          "base_uri": "https://localhost:8080/",
          "height": 282
        },
        "id": "1eQHh5S1Effa",
        "outputId": "01e98e8f-69f1-46dd-8870-9f8cc8153d12"
      },
      "source": [
        "plt.scatter(x_train, y_train, color='red')\r\n",
        "plt.plot(x_train, regressor.predict(x_train))\r\n"
      ],
      "execution_count": 32,
      "outputs": [
        {
          "output_type": "execute_result",
          "data": {
            "text/plain": [
              "[<matplotlib.lines.Line2D at 0x7f1a05ee07b8>]"
            ]
          },
          "metadata": {
            "tags": []
          },
          "execution_count": 32
        },
        {
          "output_type": "display_data",
          "data": {
            "image/png": "[encoded data removed]",
            "text/plain": [
              "<Figure size 432x288 with 1 Axes>"
            ]
          },
          "metadata": {
            "tags": [],
            "needs_background": "light"
          }
        }
      ]
    },
    {
      "cell_type": "markdown",
      "metadata": {
        "id": "uW6Aq2hhGSE9"
      },
      "source": [
        "# Nowa sekcja"
      ]
    }
  ]
}